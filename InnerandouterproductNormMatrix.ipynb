{
  "nbformat": 4,
  "nbformat_minor": 0,
  "metadata": {
    "colab": {
      "provenance": [],
      "authorship_tag": "ABX9TyO17UYrZt5LaDJkbd62Hteh",
      "include_colab_link": true
    },
    "kernelspec": {
      "name": "python3",
      "display_name": "Python 3"
    },
    "language_info": {
      "name": "python"
    }
  },
  "cells": [
    {
      "cell_type": "markdown",
      "metadata": {
        "id": "view-in-github",
        "colab_type": "text"
      },
      "source": [
        "<a href=\"https://colab.research.google.com/github/AbhistaSheela/FMML_Project_and_Labs/blob/main/InnerandouterproductNormMatrix.ipynb\" target=\"_parent\"><img src=\"https://colab.research.google.com/assets/colab-badge.svg\" alt=\"Open In Colab\"/></a>"
      ]
    },
    {
      "cell_type": "markdown",
      "source": [
        "Inner product:\n",
        "The result is a matrix with reduced dimensions. The number of columns in the first matrix must equal the number of rows in the second. For example, multiplying a 1 x 2 row by a 2 x 1 column results in a scalar."
      ],
      "metadata": {
        "id": "0i-0oAlN5FSt"
      }
    },
    {
      "cell_type": "code",
      "execution_count": 1,
      "metadata": {
        "colab": {
          "base_uri": "https://localhost:8080/"
        },
        "id": "Jr3DoyQz3dQ7",
        "outputId": "4b6543c8-6282-42df-b826-d15f334c468b"
      },
      "outputs": [
        {
          "output_type": "stream",
          "name": "stdout",
          "text": [
            "Inner product of a and b\n",
            "46\n"
          ]
        }
      ],
      "source": [
        "import numpy as np\n",
        "a=np.array([3,5])\n",
        "b=np.array([2,8])\n",
        "print(\"Inner product of a and b\")\n",
        "print(np.inner(a,b))"
      ]
    },
    {
      "cell_type": "markdown",
      "source": [
        "Outer product: The result is a matrix with expanded dimensions. The outer product requires fewer operations than the inner product because it doesn't combine two products into one element in the final matrix."
      ],
      "metadata": {
        "id": "s-pBjhAr7Pkt"
      }
    },
    {
      "cell_type": "code",
      "source": [
        "print(\"Outer product of a and b\")\n",
        "print(np.outer(a,b))"
      ],
      "metadata": {
        "colab": {
          "base_uri": "https://localhost:8080/"
        },
        "id": "uIMDU1j07VD-",
        "outputId": "6afe48a5-59cd-433b-949c-cd57aec818c9"
      },
      "execution_count": 2,
      "outputs": [
        {
          "output_type": "stream",
          "name": "stdout",
          "text": [
            "Outer product of a and b\n",
            "[[ 6 24]\n",
            " [10 40]]\n"
          ]
        }
      ]
    },
    {
      "cell_type": "markdown",
      "source": [
        "**Frobenius norm:** This norm is useful for measuring the average response of a matrix along orthogonal directions in space, as well as its root-mean-square gain. It can be defined using vector norms by stacking the columns of a matrix on top of each other.\n",
        "**Euclidean norm:** Also known as the L² norm, this is a p-norm with p=2.\n",
        "**Operator norm:** When p=2, this norm is known as the operator norm.\n",
        "**Inf-norm:** This is the maximum absolute row sum of a matrix."
      ],
      "metadata": {
        "id": "1QNEPqBu_o48"
      }
    },
    {
      "cell_type": "code",
      "source": [],
      "metadata": {
        "id": "cRsbj29eCG0E"
      },
      "execution_count": null,
      "outputs": []
    }
  ]
}